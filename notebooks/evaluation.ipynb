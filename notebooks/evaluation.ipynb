{
 "cells": [
  {
   "cell_type": "markdown",
   "id": "b12dba52",
   "metadata": {},
   "source": [
    "**Description:** Positional length control. No length prediction. Ground Truth length is used as input to decoder for absolute positional encoding"
   ]
  },
  {
   "cell_type": "code",
   "execution_count": 1,
   "id": "c4efa135",
   "metadata": {},
   "outputs": [],
   "source": [
    "%load_ext autoreload\n",
    "%autoreload 2"
   ]
  },
  {
   "cell_type": "code",
   "execution_count": 2,
   "id": "8345bded",
   "metadata": {},
   "outputs": [],
   "source": [
    "import sys\n",
    "import os"
   ]
  },
  {
   "cell_type": "code",
   "execution_count": 3,
   "id": "73ea6325",
   "metadata": {},
   "outputs": [],
   "source": [
    "import inspect"
   ]
  },
  {
   "cell_type": "code",
   "execution_count": 4,
   "id": "29711aec",
   "metadata": {},
   "outputs": [],
   "source": [
    "sys.path.append(\"../scripts/\")"
   ]
  },
  {
   "cell_type": "code",
   "execution_count": 5,
   "id": "570952d5",
   "metadata": {},
   "outputs": [],
   "source": [
    "import json"
   ]
  },
  {
   "cell_type": "code",
   "execution_count": 6,
   "id": "23bd9350",
   "metadata": {},
   "outputs": [],
   "source": [
    "import os\n",
    "os.environ[\"CUDA_DEVICE_ORDER\"]=\"PCI_BUS_ID\"   # see issue #152\n",
    "os.environ[\"CUDA_VISIBLE_DEVICES\"]=\"2\""
   ]
  },
  {
   "cell_type": "code",
   "execution_count": 30,
   "id": "3de36e56",
   "metadata": {},
   "outputs": [],
   "source": [
    "import random\n",
    "from collections import defaultdict"
   ]
  },
  {
   "cell_type": "code",
   "execution_count": 8,
   "id": "c24c1d58",
   "metadata": {},
   "outputs": [],
   "source": [
    "import numpy as np\n",
    "import matplotlib.pyplot as plt\n",
    "import seaborn as sns\n",
    "sns.set()\n",
    "plt.rcParams[\"figure.figsize\"] = (10, 8)"
   ]
  },
  {
   "cell_type": "code",
   "execution_count": 9,
   "id": "18f7e626",
   "metadata": {},
   "outputs": [],
   "source": [
    "from transformers import Seq2SeqTrainer"
   ]
  },
  {
   "cell_type": "code",
   "execution_count": 10,
   "id": "11f88756",
   "metadata": {},
   "outputs": [],
   "source": [
    "from sinusodial_positional_embedding import SinusoidalPositionalEmbedding"
   ]
  },
  {
   "cell_type": "code",
   "execution_count": 11,
   "id": "1453cfe9",
   "metadata": {},
   "outputs": [],
   "source": [
    "from tqdm import tqdm\n",
    "import torch\n",
    "import analysis_utils\n",
    "from datasets import load_dataset, load_metric\n",
    "from transformers import AutoTokenizer, AutoModelForSeq2SeqLM\n",
    "from dataset import CitationTextGenerationDataset, CitationTextGenerationDatasetNoCitationType\n",
    "from torch.utils.data import Dataset, DataLoader\n",
    "\n",
    "from modelling_led import LEDForConditionalGeneration"
   ]
  },
  {
   "cell_type": "code",
   "execution_count": 12,
   "id": "d0e05226",
   "metadata": {},
   "outputs": [],
   "source": [
    "device = \"cuda\""
   ]
  },
  {
   "cell_type": "code",
   "execution_count": 13,
   "id": "cfaafd5e",
   "metadata": {},
   "outputs": [],
   "source": [
    "max_input_length = 16384\n",
    "max_output_length = 1024"
   ]
  },
  {
   "cell_type": "code",
   "execution_count": 14,
   "id": "75b4039d",
   "metadata": {},
   "outputs": [],
   "source": [
    "def process_data_to_model_inputs(batch, special_tokens=['[Dominant]', '[Reference]'], length=None):\n",
    "    # tokenize the inputs and labels\n",
    "    \n",
    "    additional_special_tokens_lookup = {token: idx for token, idx in zip(tokenizer.additional_special_tokens, tokenizer.additional_special_tokens_ids)}\n",
    "    special_token_ids = set([additional_special_tokens_lookup[token] for token in special_tokens])\n",
    "    special_token_ids.add(tokenizer.mask_token_id)\n",
    "    \n",
    "    inputs = tokenizer(\n",
    "        batch[\"source\"],\n",
    "        padding=\"max_length\",\n",
    "        truncation=True,\n",
    "        max_length=max_input_length,\n",
    "        add_special_tokens=True \n",
    "    )\n",
    "    outputs = tokenizer(\n",
    "        batch[\"target\"],\n",
    "        padding=\"max_length\",\n",
    "        truncation=True,\n",
    "        max_length=max_output_length,\n",
    "        add_special_tokens=True \n",
    "    )\n",
    "    if length:\n",
    "        batch[\"length\"] = length\n",
    "    else:\n",
    "        batch[\"length\"] = [sum(x) for x in outputs.attention_mask]\n",
    "\n",
    "\n",
    "    batch[\"input_ids\"] = inputs.input_ids\n",
    "    batch[\"attention_mask\"] = inputs.attention_mask\n",
    "\n",
    "    # create 0 global_attention_mask lists\n",
    "    batch[\"global_attention_mask\"] = len(batch[\"input_ids\"]) * [\n",
    "        [0 for _ in range(len(batch[\"input_ids\"][0]))]\n",
    "    ]\n",
    "\n",
    "    # since above lists are references, the following line changes the 0 index for all samples\n",
    "    for i_batch in range(len(batch[\"input_ids\"])):\n",
    "        for i_token in range(len(batch[\"input_ids\"][0])):\n",
    "            if batch[\"input_ids\"][i_batch][i_token] in special_token_ids:\n",
    "                batch[\"global_attention_mask\"][i_batch][i_token] = 1\n",
    "            \n",
    "    batch[\"labels\"] = outputs.input_ids\n",
    "\n",
    "    # We have to make sure that the PAD token is ignored\n",
    "    batch[\"labels\"] = [\n",
    "        [-100 if token == tokenizer.pad_token_id else token for token in labels]\n",
    "        for labels in batch[\"labels\"]\n",
    "    ]\n",
    "    return batch"
   ]
  },
  {
   "cell_type": "code",
   "execution_count": 15,
   "id": "98a1137f",
   "metadata": {},
   "outputs": [],
   "source": [
    "path = \"/home/bxm200000/models/dominant_only/led_generations/positional_length_control_v8_dominant_only/checkpoint-67500/\""
   ]
  },
  {
   "cell_type": "code",
   "execution_count": 16,
   "id": "e0b5d334",
   "metadata": {},
   "outputs": [
    {
     "data": {
      "text/plain": [
       "0"
      ]
     },
     "execution_count": 16,
     "metadata": {},
     "output_type": "execute_result"
    }
   ],
   "source": [
    "tokenizer = AutoTokenizer.from_pretrained(path)\n",
    "special_tokens = ['<doc>','</doc>', '[BOS]', '[Mask]', '[Dominant]', '[Reference]', '[B_Dominant]',  '[E_Dominant]', '[B_Reference]', '[E_Reference]']\n",
    "# special_tokens = ['<doc>','</doc>', '[BOS]', '[Mask]', '[B_Mask]',  '[E_Mask]']\n",
    "additional_special_tokens = {'additional_special_tokens': special_tokens}\n",
    "tokenizer.add_special_tokens(additional_special_tokens)"
   ]
  },
  {
   "cell_type": "code",
   "execution_count": 17,
   "id": "40df09fe",
   "metadata": {},
   "outputs": [],
   "source": [
    "model = LEDForConditionalGeneration.from_pretrained(\n",
    "    path\n",
    ")"
   ]
  },
  {
   "cell_type": "code",
   "execution_count": 18,
   "id": "7b268ee8",
   "metadata": {},
   "outputs": [
    {
     "data": {
      "text/plain": [
       "'absolute'"
      ]
     },
     "execution_count": 18,
     "metadata": {},
     "output_type": "execute_result"
    }
   ],
   "source": [
    "model.config.sinpostype"
   ]
  },
  {
   "cell_type": "code",
   "execution_count": 19,
   "id": "707beedb",
   "metadata": {},
   "outputs": [
    {
     "data": {
      "text/plain": [
       "LEDForConditionalGeneration(\n",
       "  (led): LEDModel(\n",
       "    (shared): Embedding(50275, 768, padding_idx=1)\n",
       "    (encoder): LEDEncoder(\n",
       "      (embed_tokens): Embedding(50275, 768, padding_idx=1)\n",
       "      (embed_positions): LEDLearnedPositionalEmbedding(16384, 768, padding_idx=1)\n",
       "      (layers): ModuleList(\n",
       "        (0): LEDEncoderLayer(\n",
       "          (self_attn): LEDEncoderAttention(\n",
       "            (longformer_self_attn): LEDEncoderSelfAttention(\n",
       "              (query): Linear(in_features=768, out_features=768, bias=True)\n",
       "              (key): Linear(in_features=768, out_features=768, bias=True)\n",
       "              (value): Linear(in_features=768, out_features=768, bias=True)\n",
       "              (query_global): Linear(in_features=768, out_features=768, bias=True)\n",
       "              (key_global): Linear(in_features=768, out_features=768, bias=True)\n",
       "              (value_global): Linear(in_features=768, out_features=768, bias=True)\n",
       "            )\n",
       "            (output): Linear(in_features=768, out_features=768, bias=True)\n",
       "          )\n",
       "          (self_attn_layer_norm): LayerNorm((768,), eps=1e-05, elementwise_affine=True)\n",
       "          (fc1): Linear(in_features=768, out_features=3072, bias=True)\n",
       "          (fc2): Linear(in_features=3072, out_features=768, bias=True)\n",
       "          (final_layer_norm): LayerNorm((768,), eps=1e-05, elementwise_affine=True)\n",
       "        )\n",
       "        (1): LEDEncoderLayer(\n",
       "          (self_attn): LEDEncoderAttention(\n",
       "            (longformer_self_attn): LEDEncoderSelfAttention(\n",
       "              (query): Linear(in_features=768, out_features=768, bias=True)\n",
       "              (key): Linear(in_features=768, out_features=768, bias=True)\n",
       "              (value): Linear(in_features=768, out_features=768, bias=True)\n",
       "              (query_global): Linear(in_features=768, out_features=768, bias=True)\n",
       "              (key_global): Linear(in_features=768, out_features=768, bias=True)\n",
       "              (value_global): Linear(in_features=768, out_features=768, bias=True)\n",
       "            )\n",
       "            (output): Linear(in_features=768, out_features=768, bias=True)\n",
       "          )\n",
       "          (self_attn_layer_norm): LayerNorm((768,), eps=1e-05, elementwise_affine=True)\n",
       "          (fc1): Linear(in_features=768, out_features=3072, bias=True)\n",
       "          (fc2): Linear(in_features=3072, out_features=768, bias=True)\n",
       "          (final_layer_norm): LayerNorm((768,), eps=1e-05, elementwise_affine=True)\n",
       "        )\n",
       "        (2): LEDEncoderLayer(\n",
       "          (self_attn): LEDEncoderAttention(\n",
       "            (longformer_self_attn): LEDEncoderSelfAttention(\n",
       "              (query): Linear(in_features=768, out_features=768, bias=True)\n",
       "              (key): Linear(in_features=768, out_features=768, bias=True)\n",
       "              (value): Linear(in_features=768, out_features=768, bias=True)\n",
       "              (query_global): Linear(in_features=768, out_features=768, bias=True)\n",
       "              (key_global): Linear(in_features=768, out_features=768, bias=True)\n",
       "              (value_global): Linear(in_features=768, out_features=768, bias=True)\n",
       "            )\n",
       "            (output): Linear(in_features=768, out_features=768, bias=True)\n",
       "          )\n",
       "          (self_attn_layer_norm): LayerNorm((768,), eps=1e-05, elementwise_affine=True)\n",
       "          (fc1): Linear(in_features=768, out_features=3072, bias=True)\n",
       "          (fc2): Linear(in_features=3072, out_features=768, bias=True)\n",
       "          (final_layer_norm): LayerNorm((768,), eps=1e-05, elementwise_affine=True)\n",
       "        )\n",
       "        (3): LEDEncoderLayer(\n",
       "          (self_attn): LEDEncoderAttention(\n",
       "            (longformer_self_attn): LEDEncoderSelfAttention(\n",
       "              (query): Linear(in_features=768, out_features=768, bias=True)\n",
       "              (key): Linear(in_features=768, out_features=768, bias=True)\n",
       "              (value): Linear(in_features=768, out_features=768, bias=True)\n",
       "              (query_global): Linear(in_features=768, out_features=768, bias=True)\n",
       "              (key_global): Linear(in_features=768, out_features=768, bias=True)\n",
       "              (value_global): Linear(in_features=768, out_features=768, bias=True)\n",
       "            )\n",
       "            (output): Linear(in_features=768, out_features=768, bias=True)\n",
       "          )\n",
       "          (self_attn_layer_norm): LayerNorm((768,), eps=1e-05, elementwise_affine=True)\n",
       "          (fc1): Linear(in_features=768, out_features=3072, bias=True)\n",
       "          (fc2): Linear(in_features=3072, out_features=768, bias=True)\n",
       "          (final_layer_norm): LayerNorm((768,), eps=1e-05, elementwise_affine=True)\n",
       "        )\n",
       "        (4): LEDEncoderLayer(\n",
       "          (self_attn): LEDEncoderAttention(\n",
       "            (longformer_self_attn): LEDEncoderSelfAttention(\n",
       "              (query): Linear(in_features=768, out_features=768, bias=True)\n",
       "              (key): Linear(in_features=768, out_features=768, bias=True)\n",
       "              (value): Linear(in_features=768, out_features=768, bias=True)\n",
       "              (query_global): Linear(in_features=768, out_features=768, bias=True)\n",
       "              (key_global): Linear(in_features=768, out_features=768, bias=True)\n",
       "              (value_global): Linear(in_features=768, out_features=768, bias=True)\n",
       "            )\n",
       "            (output): Linear(in_features=768, out_features=768, bias=True)\n",
       "          )\n",
       "          (self_attn_layer_norm): LayerNorm((768,), eps=1e-05, elementwise_affine=True)\n",
       "          (fc1): Linear(in_features=768, out_features=3072, bias=True)\n",
       "          (fc2): Linear(in_features=3072, out_features=768, bias=True)\n",
       "          (final_layer_norm): LayerNorm((768,), eps=1e-05, elementwise_affine=True)\n",
       "        )\n",
       "        (5): LEDEncoderLayer(\n",
       "          (self_attn): LEDEncoderAttention(\n",
       "            (longformer_self_attn): LEDEncoderSelfAttention(\n",
       "              (query): Linear(in_features=768, out_features=768, bias=True)\n",
       "              (key): Linear(in_features=768, out_features=768, bias=True)\n",
       "              (value): Linear(in_features=768, out_features=768, bias=True)\n",
       "              (query_global): Linear(in_features=768, out_features=768, bias=True)\n",
       "              (key_global): Linear(in_features=768, out_features=768, bias=True)\n",
       "              (value_global): Linear(in_features=768, out_features=768, bias=True)\n",
       "            )\n",
       "            (output): Linear(in_features=768, out_features=768, bias=True)\n",
       "          )\n",
       "          (self_attn_layer_norm): LayerNorm((768,), eps=1e-05, elementwise_affine=True)\n",
       "          (fc1): Linear(in_features=768, out_features=3072, bias=True)\n",
       "          (fc2): Linear(in_features=3072, out_features=768, bias=True)\n",
       "          (final_layer_norm): LayerNorm((768,), eps=1e-05, elementwise_affine=True)\n",
       "        )\n",
       "      )\n",
       "      (layernorm_embedding): LayerNorm((768,), eps=1e-05, elementwise_affine=True)\n",
       "    )\n",
       "    (decoder): LEDDecoder(\n",
       "      (embed_tokens): Embedding(50275, 768, padding_idx=1)\n",
       "      (embed_positions): SinusoidalPositionalEmbedding()\n",
       "      (layers): ModuleList(\n",
       "        (0): LEDDecoderLayer(\n",
       "          (self_attn): LEDDecoderAttention(\n",
       "            (k_proj): Linear(in_features=768, out_features=768, bias=True)\n",
       "            (v_proj): Linear(in_features=768, out_features=768, bias=True)\n",
       "            (q_proj): Linear(in_features=768, out_features=768, bias=True)\n",
       "            (out_proj): Linear(in_features=768, out_features=768, bias=True)\n",
       "          )\n",
       "          (self_attn_layer_norm): LayerNorm((768,), eps=1e-05, elementwise_affine=True)\n",
       "          (encoder_attn): LEDDecoderAttention(\n",
       "            (k_proj): Linear(in_features=768, out_features=768, bias=True)\n",
       "            (v_proj): Linear(in_features=768, out_features=768, bias=True)\n",
       "            (q_proj): Linear(in_features=768, out_features=768, bias=True)\n",
       "            (out_proj): Linear(in_features=768, out_features=768, bias=True)\n",
       "          )\n",
       "          (encoder_attn_layer_norm): LayerNorm((768,), eps=1e-05, elementwise_affine=True)\n",
       "          (fc1): Linear(in_features=768, out_features=3072, bias=True)\n",
       "          (fc2): Linear(in_features=3072, out_features=768, bias=True)\n",
       "          (final_layer_norm): LayerNorm((768,), eps=1e-05, elementwise_affine=True)\n",
       "        )\n",
       "        (1): LEDDecoderLayer(\n",
       "          (self_attn): LEDDecoderAttention(\n",
       "            (k_proj): Linear(in_features=768, out_features=768, bias=True)\n",
       "            (v_proj): Linear(in_features=768, out_features=768, bias=True)\n",
       "            (q_proj): Linear(in_features=768, out_features=768, bias=True)\n",
       "            (out_proj): Linear(in_features=768, out_features=768, bias=True)\n",
       "          )\n",
       "          (self_attn_layer_norm): LayerNorm((768,), eps=1e-05, elementwise_affine=True)\n",
       "          (encoder_attn): LEDDecoderAttention(\n",
       "            (k_proj): Linear(in_features=768, out_features=768, bias=True)\n",
       "            (v_proj): Linear(in_features=768, out_features=768, bias=True)\n",
       "            (q_proj): Linear(in_features=768, out_features=768, bias=True)\n",
       "            (out_proj): Linear(in_features=768, out_features=768, bias=True)\n",
       "          )\n",
       "          (encoder_attn_layer_norm): LayerNorm((768,), eps=1e-05, elementwise_affine=True)\n",
       "          (fc1): Linear(in_features=768, out_features=3072, bias=True)\n",
       "          (fc2): Linear(in_features=3072, out_features=768, bias=True)\n",
       "          (final_layer_norm): LayerNorm((768,), eps=1e-05, elementwise_affine=True)\n",
       "        )\n",
       "        (2): LEDDecoderLayer(\n",
       "          (self_attn): LEDDecoderAttention(\n",
       "            (k_proj): Linear(in_features=768, out_features=768, bias=True)\n",
       "            (v_proj): Linear(in_features=768, out_features=768, bias=True)\n",
       "            (q_proj): Linear(in_features=768, out_features=768, bias=True)\n",
       "            (out_proj): Linear(in_features=768, out_features=768, bias=True)\n",
       "          )\n",
       "          (self_attn_layer_norm): LayerNorm((768,), eps=1e-05, elementwise_affine=True)\n",
       "          (encoder_attn): LEDDecoderAttention(\n",
       "            (k_proj): Linear(in_features=768, out_features=768, bias=True)\n",
       "            (v_proj): Linear(in_features=768, out_features=768, bias=True)\n",
       "            (q_proj): Linear(in_features=768, out_features=768, bias=True)\n",
       "            (out_proj): Linear(in_features=768, out_features=768, bias=True)\n",
       "          )\n",
       "          (encoder_attn_layer_norm): LayerNorm((768,), eps=1e-05, elementwise_affine=True)\n",
       "          (fc1): Linear(in_features=768, out_features=3072, bias=True)\n",
       "          (fc2): Linear(in_features=3072, out_features=768, bias=True)\n",
       "          (final_layer_norm): LayerNorm((768,), eps=1e-05, elementwise_affine=True)\n",
       "        )\n",
       "        (3): LEDDecoderLayer(\n",
       "          (self_attn): LEDDecoderAttention(\n",
       "            (k_proj): Linear(in_features=768, out_features=768, bias=True)\n",
       "            (v_proj): Linear(in_features=768, out_features=768, bias=True)\n",
       "            (q_proj): Linear(in_features=768, out_features=768, bias=True)\n",
       "            (out_proj): Linear(in_features=768, out_features=768, bias=True)\n",
       "          )\n",
       "          (self_attn_layer_norm): LayerNorm((768,), eps=1e-05, elementwise_affine=True)\n",
       "          (encoder_attn): LEDDecoderAttention(\n",
       "            (k_proj): Linear(in_features=768, out_features=768, bias=True)\n",
       "            (v_proj): Linear(in_features=768, out_features=768, bias=True)\n",
       "            (q_proj): Linear(in_features=768, out_features=768, bias=True)\n",
       "            (out_proj): Linear(in_features=768, out_features=768, bias=True)\n",
       "          )\n",
       "          (encoder_attn_layer_norm): LayerNorm((768,), eps=1e-05, elementwise_affine=True)\n",
       "          (fc1): Linear(in_features=768, out_features=3072, bias=True)\n",
       "          (fc2): Linear(in_features=3072, out_features=768, bias=True)\n",
       "          (final_layer_norm): LayerNorm((768,), eps=1e-05, elementwise_affine=True)\n",
       "        )\n",
       "        (4): LEDDecoderLayer(\n",
       "          (self_attn): LEDDecoderAttention(\n",
       "            (k_proj): Linear(in_features=768, out_features=768, bias=True)\n",
       "            (v_proj): Linear(in_features=768, out_features=768, bias=True)\n",
       "            (q_proj): Linear(in_features=768, out_features=768, bias=True)\n",
       "            (out_proj): Linear(in_features=768, out_features=768, bias=True)\n",
       "          )\n",
       "          (self_attn_layer_norm): LayerNorm((768,), eps=1e-05, elementwise_affine=True)\n",
       "          (encoder_attn): LEDDecoderAttention(\n",
       "            (k_proj): Linear(in_features=768, out_features=768, bias=True)\n",
       "            (v_proj): Linear(in_features=768, out_features=768, bias=True)\n",
       "            (q_proj): Linear(in_features=768, out_features=768, bias=True)\n",
       "            (out_proj): Linear(in_features=768, out_features=768, bias=True)\n",
       "          )\n",
       "          (encoder_attn_layer_norm): LayerNorm((768,), eps=1e-05, elementwise_affine=True)\n",
       "          (fc1): Linear(in_features=768, out_features=3072, bias=True)\n",
       "          (fc2): Linear(in_features=3072, out_features=768, bias=True)\n",
       "          (final_layer_norm): LayerNorm((768,), eps=1e-05, elementwise_affine=True)\n",
       "        )\n",
       "        (5): LEDDecoderLayer(\n",
       "          (self_attn): LEDDecoderAttention(\n",
       "            (k_proj): Linear(in_features=768, out_features=768, bias=True)\n",
       "            (v_proj): Linear(in_features=768, out_features=768, bias=True)\n",
       "            (q_proj): Linear(in_features=768, out_features=768, bias=True)\n",
       "            (out_proj): Linear(in_features=768, out_features=768, bias=True)\n",
       "          )\n",
       "          (self_attn_layer_norm): LayerNorm((768,), eps=1e-05, elementwise_affine=True)\n",
       "          (encoder_attn): LEDDecoderAttention(\n",
       "            (k_proj): Linear(in_features=768, out_features=768, bias=True)\n",
       "            (v_proj): Linear(in_features=768, out_features=768, bias=True)\n",
       "            (q_proj): Linear(in_features=768, out_features=768, bias=True)\n",
       "            (out_proj): Linear(in_features=768, out_features=768, bias=True)\n",
       "          )\n",
       "          (encoder_attn_layer_norm): LayerNorm((768,), eps=1e-05, elementwise_affine=True)\n",
       "          (fc1): Linear(in_features=768, out_features=3072, bias=True)\n",
       "          (fc2): Linear(in_features=3072, out_features=768, bias=True)\n",
       "          (final_layer_norm): LayerNorm((768,), eps=1e-05, elementwise_affine=True)\n",
       "        )\n",
       "      )\n",
       "      (layernorm_embedding): LayerNorm((768,), eps=1e-05, elementwise_affine=True)\n",
       "    )\n",
       "  )\n",
       "  (lm_head): Linear(in_features=768, out_features=50275, bias=False)\n",
       ")"
      ]
     },
     "execution_count": 19,
     "metadata": {},
     "output_type": "execute_result"
    }
   ],
   "source": [
    "model = model.to(device).half()\n",
    "model.eval()"
   ]
  },
  {
   "cell_type": "code",
   "execution_count": 20,
   "id": "87672116",
   "metadata": {},
   "outputs": [
    {
     "name": "stderr",
     "output_type": "stream",
     "text": [
      "100%|██████████| 362/362 [00:08<00:00, 43.87it/s]\n"
     ]
    }
   ],
   "source": [
    "val_set = CitationTextGenerationDatasetNoCitationType(\n",
    "    \"/home/data/XiangciLi/CORWA/annotated_test/\", \n",
    "    tokenizer, \n",
    "    MAX_SENT_LEN = max_input_length,\n",
    "    related_work_path='/home/data/XiangciLi/20200705v1/acl/selected_related_work.jsonl',\n",
    "    cited_metadata_path='/home/data/XiangciLi/20200705v1/acl/selected_cited_metadata.jsonl',\n",
    "    cited_paper_path=\"/home/data/XiangciLi/20200705v1/acl/selected_cited_pdf_parses.jsonl\",\n",
    "    citing_paper_path=\"/home/data/XiangciLi/20200705v1/acl/selected_pdf_parses.jsonl\",\n",
    "    skip_no_citations = True,\n",
    "    include_intro = False\n",
    ")"
   ]
  },
  {
   "cell_type": "code",
   "execution_count": 21,
   "id": "089b03d3",
   "metadata": {},
   "outputs": [],
   "source": [
    "def get_citations(src):\n",
    "    \"\"\"Get citations given source content\"\"\"\n",
    "    all_citations = []\n",
    "    for cite_data in src.split(\"[B_Reference]\")[1:]:\n",
    "\n",
    "        all_citations.append(cite_data.split(\"</s>\")[0].strip())\n",
    "\n",
    "    for cite_data in src.split(\"[B_Dominant]\")[1:]:\n",
    "\n",
    "        all_citations.append(cite_data.split(\"</s>\")[0].strip())\n",
    "        \n",
    "    for cite_data in src.split(\"[B_Mask]\")[1:]:\n",
    "\n",
    "        all_citations.append(cite_data.split(\"</s>\")[0].strip())\n",
    "    \n",
    "    return all_citations"
   ]
  },
  {
   "cell_type": "code",
   "execution_count": 22,
   "id": "8d81599c",
   "metadata": {},
   "outputs": [],
   "source": [
    "def get_sentence_token_count(sent):\n",
    "    return tokenizer.tokenize(sent).__len__()"
   ]
  },
  {
   "cell_type": "code",
   "execution_count": 23,
   "id": "23a361ab",
   "metadata": {},
   "outputs": [
    {
     "data": {
      "text/plain": [
       "42"
      ]
     },
     "execution_count": 23,
     "metadata": {},
     "output_type": "execute_result"
    }
   ],
   "source": [
    "val_set.filter_citation_type('Dominant')\n",
    "\n",
    "\n",
    "avg_1 = np.mean([get_sentence_token_count(x[\"target\"]) for x in val_set if len(get_citations(x[\"source\"]) ) == 1])\n",
    "avg_1 = int(avg_1)\n",
    "\n",
    "avg_2 = np.mean([get_sentence_token_count(x[\"target\"]) for x in val_set if len(get_citations(x[\"source\"]) ) == 2])\n",
    "avg_2 = int(avg_2)\n",
    "\n",
    "avg_greater_2 = np.mean([get_sentence_token_count(x[\"target\"]) for x in val_set if len(get_citations(x[\"source\"]) ) == 4])\n",
    "avg_greater_2 = int(avg_greater_2)\n",
    "\n",
    "all_lengths = [get_sentence_token_count(x[\"target\"]) for x in val_set]\n",
    "\n",
    "avg_length = int(np.mean(all_lengths))\n",
    "avg_length"
   ]
  },
  {
   "cell_type": "code",
   "execution_count": 31,
   "id": "e4f681ee",
   "metadata": {},
   "outputs": [],
   "source": [
    "def get_random_length():\n",
    "    return random.choice(all_lengths)"
   ]
  },
  {
   "cell_type": "code",
   "execution_count": 24,
   "id": "acc51d22",
   "metadata": {},
   "outputs": [],
   "source": [
    "def get_context(source):\n",
    "    return source.split(\"\\n\\n\")[0]"
   ]
  },
  {
   "cell_type": "code",
   "execution_count": 25,
   "id": "004d84c0",
   "metadata": {},
   "outputs": [],
   "source": [
    "def get_context_sentence_avg_length(source):\n",
    "    context = get_context(source)\n",
    "    sentences = context.split(\"\\n\")\n",
    "    return np.mean([len(x) for x in sentences])"
   ]
  },
  {
   "cell_type": "code",
   "execution_count": 26,
   "id": "d21923fe",
   "metadata": {},
   "outputs": [],
   "source": [
    "def get_desired_length(source):\n",
    "    cit_count = get_citations(source).__len__()\n",
    "    if cit_count ==1 :\n",
    "        return avg_1\n",
    "    elif cit_count == 2:\n",
    "        return avg_2\n",
    "    elif cit_count == 0:\n",
    "        print(\"Warning: citation count is 0\")\n",
    "        return avg_length\n",
    "    return avg_greater_2"
   ]
  },
  {
   "cell_type": "code",
   "execution_count": 27,
   "id": "994abb8b",
   "metadata": {},
   "outputs": [],
   "source": [
    "def get_span_avg_length(idd):\n",
    "    return span_length_dict[get_id(idd)]"
   ]
  },
  {
   "cell_type": "code",
   "execution_count": 28,
   "id": "c80f0a85",
   "metadata": {},
   "outputs": [],
   "source": [
    "samples = []\n",
    "for sample in val_set.samples:\n",
    "    source = sample[\"source\"]\n",
    "    source = source.replace(\"[B_Mask]\", \"[B_Dominant]\")\n",
    "    source = source.replace(\"[E_Mask]\", \"[E_Dominant]\")\n",
    "    sample[\"source\"] = source\n",
    "    samples.append(sample)\n",
    "\n",
    "val_set.samples = samples"
   ]
  },
  {
   "cell_type": "code",
   "execution_count": null,
   "id": "8bcd27a2",
   "metadata": {
    "scrolled": true
   },
   "outputs": [
    {
     "name": "stderr",
     "output_type": "stream",
     "text": [
      " 59%|█████▊    | 775/1322 [40:24<27:01,  2.96s/it]  "
     ]
    }
   ],
   "source": [
    "#reference_predicted = []\n",
    "#reference_reference = []\n",
    "#dominant_predicted = []\n",
    "#dominant_reference = []\n",
    "accumulated_data = []               # store all generation data\n",
    "for batch in tqdm(DataLoader(val_set, batch_size = 1, shuffle=False)):\n",
    "    processed_batch = process_data_to_model_inputs(\n",
    "        batch, \n",
    "        special_tokens=['[Mask]'], \n",
    "        length=get_random_length()\n",
    "    )\n",
    "    processed_batch_cuda = {}\n",
    "    for key in [\"input_ids\", \"attention_mask\", \"global_attention_mask\", \"labels\", \"length\"]:\n",
    "        processed_batch_cuda[key] = torch.tensor(processed_batch[key]).to(device)\n",
    "\n",
    "    model_kwargs = {'decoder_length' : processed_batch_cuda[\"length\"].unsqueeze(0)}\n",
    "    predicted_abstract_ids = model.generate(\n",
    "        input_ids = processed_batch_cuda[\"input_ids\"], \n",
    "        attention_mask=processed_batch_cuda[\"attention_mask\"], \n",
    "        global_attention_mask=processed_batch_cuda[\"global_attention_mask\"],\n",
    "        **model_kwargs,\n",
    "    )    \n",
    "    out = tokenizer.batch_decode(predicted_abstract_ids, skip_special_tokens=True)\n",
    "    target = batch[\"target\"]\n",
    "    for o, t, part_id, source in zip(out, target, batch[\"id\"], batch[\"source\"]):\n",
    "        accumulated_data.append(\n",
    "            {\"source\": source, \"target\": t, \n",
    "             \"generated\": o, \"part_id\": part_id}\n",
    "        )"
   ]
  },
  {
   "cell_type": "code",
   "execution_count": null,
   "id": "c9b9c274",
   "metadata": {},
   "outputs": [],
   "source": [
    "for data, val_data in zip(accumulated_data, val_set):\n",
    "    data[\"citation_type\"] = val_data[\"citation_type\"]"
   ]
  },
  {
   "cell_type": "code",
   "execution_count": null,
   "id": "ec2561b3",
   "metadata": {},
   "outputs": [],
   "source": [
    "path"
   ]
  },
  {
   "cell_type": "code",
   "execution_count": null,
   "id": "919c0059",
   "metadata": {},
   "outputs": [],
   "source": [
    "analysis_utils.write_json(\n",
    "    accumulated_data,\n",
    "    os.path.abspath(os.path.join(path, \"../sample_output_random_sampled_length.json\"))\n",
    ")"
   ]
  },
  {
   "cell_type": "code",
   "execution_count": 58,
   "id": "0a27ca87",
   "metadata": {},
   "outputs": [],
   "source": [
    "json_path = '/home/bxm200000/models/dominant_only/led_generations/span_v1_cdlm/sample_output.json'"
   ]
  },
  {
   "cell_type": "code",
   "execution_count": 59,
   "id": "bc4b4d4e",
   "metadata": {},
   "outputs": [],
   "source": [
    "accumulated_data = analysis_utils.load_json(\n",
    "    json_path\n",
    ")"
   ]
  },
  {
   "cell_type": "code",
   "execution_count": 48,
   "id": "bef8be67",
   "metadata": {},
   "outputs": [],
   "source": [
    "# accumulated_data = analysis_utils.load_json(\n",
    "#     os.path.abspath(os.path.join(path, \"../sample_output_length_ground_truth.json\"))\n",
    "# )"
   ]
  },
  {
   "cell_type": "markdown",
   "id": "d5b24773",
   "metadata": {},
   "source": [
    "### Difference in Length of generation and ground truth"
   ]
  },
  {
   "cell_type": "code",
   "execution_count": 55,
   "id": "304506f1",
   "metadata": {},
   "outputs": [],
   "source": [
    "def get_length_difference(data, tokenizer=tokenizer):\n",
    "    \"\"\"\"\"\"\n",
    "    return tokenizer.tokenize(data[\"target\"]).__len__() - tokenizer.tokenize(data[\"generated\"]).__len__()\n",
    "    "
   ]
  },
  {
   "cell_type": "code",
   "execution_count": 56,
   "id": "047d6d36",
   "metadata": {},
   "outputs": [
    {
     "data": {
      "text/plain": [
       "Text(0.5, 0, 'Target span Length - Generated span length.')"
      ]
     },
     "execution_count": 56,
     "metadata": {},
     "output_type": "execute_result"
    },
    {
     "data": {
      "image/png": "[encoded data removed]",
      "text/plain": [
       "<Figure size 720x576 with 1 Axes>"
      ]
     },
     "metadata": {},
     "output_type": "display_data"
    }
   ],
   "source": [
    "diff = [get_length_difference(x) for x in accumulated_data]\n",
    "\n",
    "plt.hist(diff, bins=50)\n",
    "\n",
    "plt.title(\n",
    "    \"Span generation. Mean ~ {} Median ~{}\".format(\n",
    "    sum(diff)/len(diff), np.median(diff))\n",
    ")\n",
    "plt.xlabel(\n",
    "    \"Target span Length - Generated span length.\"\n",
    ")"
   ]
  },
  {
   "cell_type": "code",
   "execution_count": 57,
   "id": "76140c48",
   "metadata": {},
   "outputs": [],
   "source": [
    "# dom_lengths = [x for x in ]"
   ]
  },
  {
   "cell_type": "code",
   "execution_count": 35,
   "id": "a0df896c",
   "metadata": {},
   "outputs": [
    {
     "data": {
      "text/plain": [
       "0.0005037375189107414"
      ]
     },
     "execution_count": 35,
     "metadata": {},
     "output_type": "execute_result"
    }
   ],
   "source": [
    ".001* analysis_utils.get_length_variance_from_data(accumulated_data, tokenizer)"
   ]
  },
  {
   "cell_type": "code",
   "execution_count": null,
   "id": "71c11c12",
   "metadata": {},
   "outputs": [],
   "source": [
    "np.mean([abs(tokenizer.tokenize(x[\"target\"]).__len__() - avg_length)  for x in accumulated_data])"
   ]
  },
  {
   "cell_type": "code",
   "execution_count": 37,
   "id": "8a3c6a8a",
   "metadata": {},
   "outputs": [],
   "source": [
    "rouge = load_metric(\"rouge\")"
   ]
  },
  {
   "cell_type": "code",
   "execution_count": 38,
   "id": "571567e3",
   "metadata": {},
   "outputs": [],
   "source": [
    "# dominant_data, reference_data = analysis_utils.split_data_by_citation_type(accumulated_data)"
   ]
  },
  {
   "cell_type": "code",
   "execution_count": 39,
   "id": "efcbaac1",
   "metadata": {},
   "outputs": [],
   "source": [
    "predicted = [analysis_utils.remove_citation_from_sentence(x[\"generated\"], x[\"source\"]) for x in accumulated_data]\n",
    "\n",
    "reference = [analysis_utils.remove_citation_from_sentence(x[\"target\"], x[\"source\"]) for x in accumulated_data]"
   ]
  },
  {
   "cell_type": "code",
   "execution_count": 40,
   "id": "1b4ca1a5",
   "metadata": {},
   "outputs": [
    {
     "data": {
      "text/plain": [
       "' proposed a distillation-based distillation approach\\nThis distillation is based on the distillation of all the models in a single distillation step'"
      ]
     },
     "execution_count": 40,
     "metadata": {},
     "output_type": "execute_result"
    }
   ],
   "source": [
    "predicted[1]"
   ]
  },
  {
   "cell_type": "code",
   "execution_count": 41,
   "id": "d1dfa42b",
   "metadata": {},
   "outputs": [
    {
     "data": {
      "text/plain": [
       "' proposed to fine tune a multilingual model to a specified zeroshot-direction with pseudo-parallel data'"
      ]
     },
     "execution_count": 41,
     "metadata": {},
     "output_type": "execute_result"
    }
   ],
   "source": [
    "reference[1]"
   ]
  },
  {
   "cell_type": "code",
   "execution_count": 42,
   "id": "89da05e6",
   "metadata": {},
   "outputs": [
    {
     "data": {
      "text/plain": [
       "{'rouge1': AggregateScore(low=Score(precision=0.2772599041339654, recall=0.29695541973873824, fmeasure=0.26425983896424876), mid=Score(precision=0.28583858716884747, recall=0.306074768321172, fmeasure=0.2715437557668595), high=Score(precision=0.2948596186021861, recall=0.3150998270500466, fmeasure=0.27830572083795424)),\n",
       " 'rouge2': AggregateScore(low=Score(precision=0.07405053189002031, recall=0.0802334250553994, fmeasure=0.07051513933336478), mid=Score(precision=0.07914633992595807, recall=0.08672514801471393, fmeasure=0.07550899355923901), high=Score(precision=0.08442027235012582, recall=0.09318375124249138, fmeasure=0.08068082482299987)),\n",
       " 'rougeL': AggregateScore(low=Score(precision=0.20936910638239783, recall=0.23191266977355193, fmeasure=0.2026179095483752), mid=Score(precision=0.21591750131711807, recall=0.23912317094283175, fmeasure=0.2081367007095653), high=Score(precision=0.2227267775115336, recall=0.24786492728810786, fmeasure=0.21431070065934266))}"
      ]
     },
     "execution_count": 42,
     "metadata": {},
     "output_type": "execute_result"
    }
   ],
   "source": [
    "rouge.compute(\n",
    "    predictions=predicted, \n",
    "    references=reference, \n",
    "    rouge_types=[\"rouge1\",\"rouge2\",\"rougeL\"],\n",
    "    use_stemmer=True\n",
    ")"
   ]
  },
  {
   "cell_type": "markdown",
   "id": "d36f2d70",
   "metadata": {},
   "source": [
    "### Changing Desired Length Experiments"
   ]
  },
  {
   "cell_type": "code",
   "execution_count": 43,
   "id": "b0da2aa8",
   "metadata": {},
   "outputs": [],
   "source": [
    "def run_model(batch, model, length=None):\n",
    "    processed_batch = process_data_to_model_inputs(\n",
    "        batch, \n",
    "        special_tokens=['[Dominant]', '[Reference]'],\n",
    "        length=length\n",
    "    )\n",
    "    processed_batch_cuda = {}\n",
    "    for key in [\"input_ids\", \"attention_mask\", \"global_attention_mask\", \"labels\", \"length\"]:\n",
    "        processed_batch_cuda[key] = torch.tensor(processed_batch[key]).to(device)\n",
    "    model_kwargs = {'decoder_length' : processed_batch_cuda[\"length\"].unsqueeze(0)}\n",
    "    predicted_abstract_ids = model.generate(\n",
    "        processed_batch_cuda[\"input_ids\"], \n",
    "        attention_mask=processed_batch_cuda[\"attention_mask\"], \n",
    "        global_attention_mask=processed_batch_cuda[\"global_attention_mask\"],\n",
    "        **model_kwargs,\n",
    "        output_scores=True,\n",
    "        return_dict_in_generate = True,\n",
    "        num_return_sequences = 1,\n",
    "        \n",
    "    )\n",
    "    out = tokenizer.batch_decode(predicted_abstract_ids.sequences, skip_special_tokens=True)\n",
    "    target = batch[\"target\"]\n",
    "    return out, target, predicted_abstract_ids.sequences_scores"
   ]
  },
  {
   "cell_type": "code",
   "execution_count": 44,
   "id": "eee89109",
   "metadata": {},
   "outputs": [],
   "source": [
    "def run_length_controlled_prediction(\n",
    "    source, target = \"dummy target\", length=None\n",
    "):\n",
    "    \"\"\"high level function for length controlled generation\"\"\"\n",
    "    test_data = {\"source\": source, \"target\": target, \"id\": \"test_123\"}\n",
    "\n",
    "    test_data_list = [test_data]\n",
    "    \n",
    "    for batch in DataLoader(test_data_list, batch_size = 1, shuffle=False):\n",
    "        out, ta, seq_scores = run_model(\n",
    "            batch, model,\n",
    "            length=length\n",
    "        )\n",
    "        break\n",
    "    return out[0], seq_scores[0].cpu().numpy().item()"
   ]
  },
  {
   "cell_type": "code",
   "execution_count": 51,
   "id": "da23869c",
   "metadata": {},
   "outputs": [
    {
     "name": "stderr",
     "output_type": "stream",
     "text": [
      "100%|██████████| 1322/1322 [2:07:09<00:00,  5.77s/it]  \n"
     ]
    }
   ],
   "source": [
    "length_configs = [10, 20, 30, 50, 80]\n",
    "\n",
    "\n",
    "for data in tqdm(accumulated_data):\n",
    "    source = data[\"source\"]\n",
    "    \n",
    "    for len_option in length_configs:\n",
    "        if \"generated_{}\".format(len_option) not in data:\n",
    "            data[\"generated_{}\".format(len_option)], data[\"generated_{}_score\".format(len_option)] = run_length_controlled_prediction(\n",
    "                source, length=len_option\n",
    "            )"
   ]
  },
  {
   "cell_type": "code",
   "execution_count": 61,
   "id": "be09c9c5",
   "metadata": {},
   "outputs": [],
   "source": [
    "# accumulated_data[0]"
   ]
  },
  {
   "cell_type": "code",
   "execution_count": 49,
   "id": "668e5f66",
   "metadata": {},
   "outputs": [],
   "source": [
    "with open(os.path.abspath(os.path.join(path, \"../vary_length_sample_output.json\")), 'w') as f:\n",
    "    json.dump(accumulated_data, f)"
   ]
  },
  {
   "cell_type": "code",
   "execution_count": null,
   "id": "86f48411",
   "metadata": {},
   "outputs": [],
   "source": [
    "run_length_controlled_prediction(source, length=20)"
   ]
  },
  {
   "cell_type": "code",
   "execution_count": null,
   "id": "ee1d8b70",
   "metadata": {},
   "outputs": [],
   "source": [
    "run_length_controlled_prediction(source, length=30)"
   ]
  },
  {
   "cell_type": "code",
   "execution_count": null,
   "id": "77cc81b5",
   "metadata": {},
   "outputs": [],
   "source": [
    "run_length_controlled_prediction(source, length=100)"
   ]
  },
  {
   "cell_type": "code",
   "execution_count": null,
   "id": "12fe6c59",
   "metadata": {},
   "outputs": [],
   "source": [
    "source = \"\"\"Recurrent neural network grammars (RNNGs) (Dyer et al., 2016) model sentences by first generating a nested, hierarchical syntactic structure which is used to construct a context representation to be conditioned upon for upcoming words. Supervised RNNGs have been shown to outperform standard sequential language models, achieve excellent results on parsing (Dyer et al., 2016; Kuncoro et al., 2017) , better encode syntactic properties of language , and correlate with electrophysiological responses in the human brain . However, these all require annotated syntactic trees for training. In this work, we explore unsupervised learning of recurrent neural network grammars for language modeling and grammar induction. Work done while the first author was an intern at DeepMind. Code available at https://github.com/harvardnlp/urnng The standard setup for unsupervised structure learning is to define a generative model p θ (x, z) over observed data x (e.g. sentence) and unobserved structure z (e.g. parse tree, part-of-speech sequence), and maximize the log marginal likelihood log p θ (x) = log z p θ (x, z). Successful approaches to unsupervised parsing have made strong conditional independence assumptions (e.g. context-freeness) and employed auxiliary objectives (Klein and Manning, 2002) or priors (Johnson et al., 2007) . These strategies imbue the learning process with inductive biases that guide the model to discover meaningful structures while allowing tractable algorithms for marginalization; however, they come at the expense of language modeling performance, particularly compared to sequential neural models that make no independence assumptions. Like RNN language models, RNNGs make no independence assumptions. Instead they encode structural bias through operations that compose linguistic constituents. The lack of independence assumptions contributes to the strong language modeling performance of RNNGs, but make unsupervised learning challenging. First, marginalization is intractable. Second, the biases imposed by the RNNG are relatively weak compared to those imposed by models like PCFGs. There is little pressure for non-trivial tree structure to emerge during unsupervised RNNG (URNNG) learning. In this work, we explore a technique for handling intractable marginalization while also injecting inductive bias. Specifically we employ amortized variational inference (Kingma and Welling, 2014; Rezende et al., 2014; Mnih and Gregor, 2014 ) with a structured inference network. Variational inference lets us tractably optimize a lower bound on the log marginal likelihood, while employing a structured inference network encourages non-trivial structure. In particular, a con-ditional random field (CRF) constituency parser (Finkel et al., 2008; Durrett and Klein, 2015) , which makes significant independence assumptions, acts as a guide on the generative model to learn meaningful trees through regularizing the posterior (Ganchev et al., 2010) . We experiment with URNNGs on English and Chinese and observe that they perform well as language models compared to their supervised counterparts and standard neural LMs. In terms of grammar induction, they are competitive with recently-proposed neural architectures that discover tree-like structures through gated attention (Shen et al., 2018) . Our results, along with other recent work on joint language modeling/structure learning with deep networks (Shen et al., 2018 (Shen et al., , 2019 Wiseman et al., 2018; Kawakami et al., 2018) , suggest that it is possible learn generative models of language that model the underlying data well (i.e. assign high likelihood to held-out data) and at the same time induce meaningful linguistic structure. </s> work (Cho et al., 2014; Chung et al., 2017; Shen et al., 2018 Shen et al., , 2019 .\\nIn contrast,  [Dominant] \\nOur work is also related to the recent line of work on learning latent trees as part of a deep model through supervision on other tasks, typically via differentiable structured hidden layers (Kim et al., 2017; Bradbury and Socher, 2017; Tran and Bisk, 2018; Peng et al., 2018; Niculae et al., 2018; , policy gradient-based approaches (Yogatama et al., 2017; Williams et al., 2018; Havrylov et al., 2019) , or differentiable relaxations (Choi et al., 2018; Maillard and Clark, 2018) .\\n\\n [B_Dominant] Buys and Blunsom (2018) </s> Neural Syntactic Generative Models with Exact Marginalization | We present neural syntactic generative models with exact marginalization that support both dependency parsing and language modeling. Exact marginalization is made tractable through dynamic programming over shiftreduce parsing and minimal RNN-based feature sets. Our algorithms complement previous approaches by supporting batched training and enabling online computation of next word probabilities. For supervised dependency parsing, our model achieves a stateof-the-art result among generative approaches. We also report empirical results on unsupervised syntactic models and their role in language modeling. We find that our model formulation of latent dependencies with exact marginalization do not lead to better intrinsic language modeling performance than vanilla RNNs, and that parsing accuracy is not correlated with language modeling perplexity in stack-based models. [E_Dominant]\"\"\""
   ]
  },
  {
   "cell_type": "code",
   "execution_count": null,
   "id": "5adc1af4",
   "metadata": {},
   "outputs": [],
   "source": [
    "# val_set[0]"
   ]
  },
  {
   "cell_type": "code",
   "execution_count": null,
   "id": "1fd7b843",
   "metadata": {},
   "outputs": [],
   "source": [
    "run_length_controlled_prediction(source, length=20)"
   ]
  },
  {
   "cell_type": "code",
   "execution_count": null,
   "id": "0b1e6b0d",
   "metadata": {},
   "outputs": [],
   "source": [
    "run_length_controlled_prediction(source, length=30)"
   ]
  },
  {
   "cell_type": "code",
   "execution_count": null,
   "id": "be6f259b",
   "metadata": {},
   "outputs": [],
   "source": [
    "run_length_controlled_prediction(source, length=50)"
   ]
  },
  {
   "cell_type": "code",
   "execution_count": null,
   "id": "a3d77ab9",
   "metadata": {},
   "outputs": [],
   "source": [
    "source = \"\"\"Recurrent neural network grammars (RNNGs) (Dyer et al., 2016) model sentences by first generating a nested, hierarchical syntactic structure which is used to construct a context representation to be conditioned upon for upcoming words. Supervised RNNGs have been shown to outperform standard sequential language models, achieve excellent results on parsing (Dyer et al., 2016; Kuncoro et al., 2017) , better encode syntactic properties of language , and correlate with electrophysiological responses in the human brain . However, these all require annotated syntactic trees for training. In this work, we explore unsupervised learning of recurrent neural network grammars for language modeling and grammar induction. Work done while the first author was an intern at DeepMind. Code available at https://github.com/harvardnlp/urnng The standard setup for unsupervised structure learning is to define a generative model p θ (x, z) over observed data x (e.g. sentence) and unobserved structure z (e.g. parse tree, part-of-speech sequence), and maximize the log marginal likelihood log p θ (x) = log z p θ (x, z). Successful approaches to unsupervised parsing have made strong conditional independence assumptions (e.g. context-freeness) and employed auxiliary objectives (Klein and Manning, 2002) or priors (Johnson et al., 2007) . These strategies imbue the learning process with inductive biases that guide the model to discover meaningful structures while allowing tractable algorithms for marginalization; however, they come at the expense of language modeling performance, particularly compared to sequential neural models that make no independence assumptions. Like RNN language models, RNNGs make no independence assumptions. Instead they encode structural bias through operations that compose linguistic constituents. The lack of independence assumptions contributes to the strong language modeling performance of RNNGs, but make unsupervised learning challenging. First, marginalization is intractable. Second, the biases imposed by the RNNG are relatively weak compared to those imposed by models like PCFGs. There is little pressure for non-trivial tree structure to emerge during unsupervised RNNG (URNNG) learning. In this work, we explore a technique for handling intractable marginalization while also injecting inductive bias. Specifically we employ amortized variational inference (Kingma and Welling, 2014; Rezende et al., 2014; Mnih and Gregor, 2014 ) with a structured inference network. Variational inference lets us tractably optimize a lower bound on the log marginal likelihood, while employing a structured inference network encourages non-trivial structure. In particular, a con-ditional random field (CRF) constituency parser (Finkel et al., 2008; Durrett and Klein, 2015) , which makes significant independence assumptions, acts as a guide on the generative model to learn meaningful trees through regularizing the posterior (Ganchev et al., 2010) . We experiment with URNNGs on English and Chinese and observe that they perform well as language models compared to their supervised counterparts and standard neural LMs. In terms of grammar induction, they are competitive with recently-proposed neural architectures that discover tree-like structures through gated attention (Shen et al., 2018) . Our results, along with other recent work on joint language modeling/structure learning with deep networks (Shen et al., 2018 (Shen et al., , 2019 Wiseman et al., 2018; Kawakami et al., 2018) , suggest that it is possible learn generative models of language that model the underlying data well (i.e. assign high likelihood to held-out data) and at the same time induce meaningful linguistic structure. </s> work (Cho et al., 2014; Chung et al., 2017; Shen et al., 2018 Shen et al., , 2019 .\\nIn contrast, Buys and Blunsom (2018) make Markov assumptions and perform exact marginalization over latent dependency trees.\\nOur work is also related to the recent line of work on learning latent trees as part of a deep model through supervision on other tasks, typically via differentiable structured hidden layers (Kim et al., 2017; Bradbury and Socher, 2017; Tran and Bisk, 2018; Peng et al., 2018; Niculae et al., 2018; , policy gradient-based approaches (Yogatama et al., 2017; Williams et al., 2018; Havrylov et al., 2019) , or  [Reference]  .\\n\\n [B_Reference] (Choi et al., 2018; </s> Learning to Compose Task-Specific Tree Structures | For years, recursive neural networks (RvNNs) have been shown to be suitable for representing text into fixed-length vectors and achieved good performance on several natural language processing tasks. However, the main drawback of RvNNs is that they require structured input, which makes data preparation and model implementation hard. In this paper, we propose Gumbel Tree-LSTM, a novel treestructured long short-term memory architecture that efficiently learns how to compose task-specific tree structures only from plain text data. Our model uses Straight-Through Gumbel-Softmax estimator to decide the parent node among candidates dynamically and to calculate gradients of the discrete decision. We evaluate the proposed model on natural language inference and sentiment analysis, and show that our model outperforms or is at least comparable to previous models. We also find that our model converges significantly faster than other models. [E_Reference] [B_Reference] Maillard and Clark, 2018) </s> Latent Tree Learning with Differentiable Parsers: Shift-Reduce Parsing and Chart Parsing | Latent tree learning models represent sentences by composing their words according to an induced parse tree, all based on a downstream task. These models often outperform baselines which use (externally provided) syntax trees to drive the composition order. This work contributes (a) a new latent tree learning model based on shift-reduce parsing, with competitive downstream performance and non-trivial induced trees, and (b) an analysis of the trees learned by our shift-reduce model and by a chart-based model. [E_Reference]\"\"\""
   ]
  },
  {
   "cell_type": "code",
   "execution_count": null,
   "id": "f22cc2b4",
   "metadata": {},
   "outputs": [],
   "source": []
  },
  {
   "cell_type": "code",
   "execution_count": null,
   "id": "6d1d6bb4",
   "metadata": {},
   "outputs": [],
   "source": [
    "run_length_controlled_prediction(source, length=20)"
   ]
  },
  {
   "cell_type": "code",
   "execution_count": null,
   "id": "c843ceb8",
   "metadata": {},
   "outputs": [],
   "source": [
    "run_length_controlled_prediction(source, length=30)"
   ]
  },
  {
   "cell_type": "code",
   "execution_count": null,
   "id": "f081e175",
   "metadata": {},
   "outputs": [],
   "source": [
    "run_length_controlled_prediction(source, length=50)"
   ]
  },
  {
   "cell_type": "code",
   "execution_count": null,
   "id": "d0c586e9",
   "metadata": {},
   "outputs": [],
   "source": []
  }
 ],
 "metadata": {
  "kernelspec": {
   "display_name": "Python 3",
   "language": "python",
   "name": "python3"
  },
  "language_info": {
   "codemirror_mode": {
    "name": "ipython",
    "version": 3
   },
   "file_extension": ".py",
   "mimetype": "text/x-python",
   "name": "python",
   "nbconvert_exporter": "python",
   "pygments_lexer": "ipython3",
   "version": "3.7.11"
  }
 },
 "nbformat": 4,
 "nbformat_minor": 5
}
